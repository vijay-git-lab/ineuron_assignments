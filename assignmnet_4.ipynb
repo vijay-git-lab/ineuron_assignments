{
 "cells": [
  {
   "cell_type": "code",
   "execution_count": null,
   "id": "6e43d2ef",
   "metadata": {},
   "outputs": [],
   "source": [
    "1. What exactly is []?\n",
    "2. In a list of values stored in a variable called spam, how would you assign the value \"hello\" as the\n",
    "third value? (Assume [2, 4, 6, 8, 10] are in spam.)\n",
    "Let's pretend the spam includes the list ['a', 'b', 'c', 'd'] for the next three queries. \n",
    "3. What is the value of spam[int(int('3' * 2) / 11)]?\n",
    "4. What is the value of spam[-1]?\n",
    "5. What is the value of spam[:2]?\n",
    "Let's pretend bacon has the list [3.14, 'cat,' 11, 'cat,' True] for the next three questions.\n",
    "6. What is the value of bacon.index('cat')?\n",
    "7. How does bacon.append(99) change the look of the list value in bacon?\n",
    "8. How does bacon.remove('cat') change the look of the list in bacon?\n",
    "9. What are the list concatenation and list replication operators?\n",
    "10. What is difference between the list methods append() and insert()?\n",
    "11. What are the two methods for removing items from a list?\n",
    "12. Describe how list values and string values are identical.\n",
    "13. What's the difference between tuples and lists?\n",
    "14. How do you type a tuple value that only contains the integer 42?\n",
    "15. How do you get a list value's tuple form? How do you get a tuple value's list form?\n",
    "16. Variables that \"contain\" list values are not necessarily lists themselves. Instead, what do they contain?\n",
    "17. How do you distinguish between copy.copy() and copy.deepcopy()?"
   ]
  },
  {
   "cell_type": "code",
   "execution_count": null,
   "id": "313afab2",
   "metadata": {},
   "outputs": [],
   "source": [
    "1. What exactly is []?\n",
    "\n",
    "Answer\n",
    "[] is place holder for the datatype list. A single item or collection of items separated by comma enclosed in  a [] \n",
    "is type cast as a list.\n"
   ]
  },
  {
   "cell_type": "code",
   "execution_count": null,
   "id": "50877ad4",
   "metadata": {},
   "outputs": [],
   "source": [
    "2. In a list of values stored in a variable called spam, how would you assign the value \"hello\" as the\n",
    "third value? (Assume [2, 4, 6, 8, 10] are in spam.)\n",
    "\n",
    "Anwser\n",
    "spam = [2,4,6,8,10]\n",
    "spam.insert(2,\"hello\")"
   ]
  },
  {
   "cell_type": "code",
   "execution_count": null,
   "id": "5034e2d1",
   "metadata": {},
   "outputs": [],
   "source": [
    "3. What is the value of spam[int(int('3' * 2) / 11)]?\n",
    "\n",
    "Answer\n",
    "\"d\"\n"
   ]
  },
  {
   "cell_type": "code",
   "execution_count": null,
   "id": "aaa940a9",
   "metadata": {},
   "outputs": [],
   "source": [
    "4. What is the value of spam[-1]?\n",
    "\n",
    "Answer\n",
    "\"d\""
   ]
  },
  {
   "cell_type": "code",
   "execution_count": null,
   "id": "aa60c997",
   "metadata": {},
   "outputs": [],
   "source": [
    "5. What is the value of spam[:2]?\n",
    "\n",
    "Answer\n",
    "[\"a\",\"b\"]"
   ]
  },
  {
   "cell_type": "code",
   "execution_count": null,
   "id": "ae65fb32",
   "metadata": {},
   "outputs": [],
   "source": [
    "6. What is the value of bacon.index('cat')?\n",
    "\n",
    "Answer\n",
    "1\n"
   ]
  },
  {
   "cell_type": "code",
   "execution_count": null,
   "id": "a3b4f380",
   "metadata": {},
   "outputs": [],
   "source": [
    "7. How does bacon.append(99) change the look of the list value in bacon?\n",
    "\n",
    "Answer\n",
    "The list an elemnt is added in the last position \n",
    "[3.14, 'cat', 11, 'cat', True, 99]\n",
    "    "
   ]
  },
  {
   "cell_type": "code",
   "execution_count": 15,
   "id": "d7341526",
   "metadata": {},
   "outputs": [],
   "source": [
    "8. How does bacon.remove('cat') change the look of the list in bacon?\n",
    "\n",
    "Answer\n",
    "It removes the first occurence of the cat in bacon.\n",
    "[3.14, 11, 'cat', True, 99]\n"
   ]
  },
  {
   "cell_type": "code",
   "execution_count": 18,
   "id": "f90ea94d",
   "metadata": {},
   "outputs": [],
   "source": [
    "9. What are the list concatenation and list replication operators?\n",
    "\n",
    "Answer\n",
    "list concatenation operator is +. It concatenates the two lists\n",
    "l1= [1,2,3]\n",
    "l2=[4,5,6]\n",
    "l3=l1+l2\n",
    "l3 is [1,2,3,4,5,6]\n",
    "\n",
    "list replixcation operator is *. It generates the replica of the list .\n",
    "l1= [1,2,3]\n",
    "l2  = l1*3\n",
    "l2 is [1,2,3,1,2,3]\n"
   ]
  },
  {
   "cell_type": "code",
   "execution_count": null,
   "id": "978f269a",
   "metadata": {},
   "outputs": [],
   "source": [
    "10. What is difference between the list methods append() and insert()?\n",
    "\n",
    "Answer\n",
    "The list method append() add the element to the every end of the list. append() can only add one item at a time.\n",
    "l1 = [1,2,3]\n",
    "l1.append(4)\n",
    "l1 is [1,2,3,4]\n",
    "\n",
    "the list method insert add the elment at nay positiobn specified.\n",
    "l1=[1,2,3,4,5]\n",
    "l2  = l1.insert(3,\"vijay\")\n",
    "l2 is  [1,2,3,\"vijay\",4,5]\n"
   ]
  },
  {
   "cell_type": "code",
   "execution_count": null,
   "id": "5550fc80",
   "metadata": {},
   "outputs": [],
   "source": [
    "11. What are the two methods for removing items from a list?\n",
    "\n",
    "Answer\n",
    "pop(n). this method removes the  the elemet at the nth  index.  If no index is mentioned then it removes the elemet at\n",
    "the last index.\n",
    "l=[1,2,3,45,5]\n",
    "l.pop(3)\n",
    "removes elemt at the 3rd index,45\n",
    "l is [1,2,3,5]\n",
    "\n",
    "remove(x). this method remove  the element passed as an argument. Id no element passecas argument is passed it \n",
    "generates an error.\n",
    "l=[1,2,3,45,5]\n",
    "l.remove(45). it removes the element 45.\n",
    "l is [1,2,3,5]\n"
   ]
  },
  {
   "cell_type": "code",
   "execution_count": null,
   "id": "5acb01b3",
   "metadata": {},
   "outputs": [],
   "source": [
    "12. Describe how list values and string values are identical.\n",
    "\n",
    "Answer\n",
    "list values can be ascessed using the indes number. \n",
    "input\n",
    "l=[1,2,3]\n",
    "print(l[1]) \n",
    "output\n",
    "2\n",
    "    \n",
    "string values can also be ascessed using  the index numbers.\n",
    "input\n",
    "s=\"vijay\"\n",
    "print(s[2])\n",
    "output\n",
    "\"j\"\n"
   ]
  },
  {
   "cell_type": "code",
   "execution_count": 25,
   "id": "1e7228a9",
   "metadata": {},
   "outputs": [],
   "source": [
    "13. What's the difference between tuples and lists?\n",
    "\n",
    "Answer\n",
    "tuples is immutable . Reassignment of elements inside of tuple cannot be done.primitive datatype cannot be addded,\n",
    "subtracted or modified in a tuple.\n",
    "eg.\n",
    "t=(1,2,3)\n",
    "It has only two method assoiciated with it. count() and index()\n",
    "\n",
    "lists is mutubale. elements at any index of the list can be reasigned and added,subtracted or modified in a list.\n",
    "input\n",
    "l=[1,2,3]\n",
    "l[2]  = 4\n",
    "print(l)\n",
    "output\n",
    "[1,2,4]"
   ]
  },
  {
   "cell_type": "code",
   "execution_count": null,
   "id": "9d21d769",
   "metadata": {},
   "outputs": [],
   "source": [
    "14. How do you type a tuple value that only contains the integer 42?\n",
    "\n",
    "Answer\n",
    "t=(42,)"
   ]
  },
  {
   "cell_type": "code",
   "execution_count": null,
   "id": "8d2fb87a",
   "metadata": {},
   "outputs": [],
   "source": [
    "15. How do you get a list value's tuple form? How do you get a tuple value's list form?\n",
    "\n",
    "Answer\n",
    "list value in tuple form can be obtaibned by typecasting bit in tuples\n",
    "input \n",
    "l=[1,2,3]\n",
    "t= (4,5,6)\n",
    "print(type(tuple(l)))\n",
    "print(type(list(t)))\n",
    "output\n",
    "tuple\n",
    "list"
   ]
  },
  {
   "cell_type": "code",
   "execution_count": null,
   "id": "47f7a9a2",
   "metadata": {},
   "outputs": [],
   "source": [
    "16. Variables that \"contain\" list values are not necessarily lists themselves. Instead, what do they contain?\n",
    "\n",
    "Answer\n",
    "variables that contain the list values do not contain the list themselves but contain the references to the list values."
   ]
  },
  {
   "cell_type": "code",
   "execution_count": null,
   "id": "0b2cb2e3",
   "metadata": {},
   "outputs": [],
   "source": [
    "17. How do you distinguish between copy.copy() and copy.deepcopy()?\n",
    "\n",
    "Answer\n",
    "copy.copy() creates a new container and populates the contents inside it with the references to the original items.\n",
    "Any changes made to the  copied item is also reflected in the original item.\n",
    "\n",
    "input\n",
    "l=[1,2,3,[4,5],[6,7,8,[9,10]]]\n",
    "l2= copy.copy(l)\n",
    "l2[3][1] = \"vijay\"\n",
    "print(l)\n",
    "print(l2)\n",
    "output\n",
    "[1, 2, 3, [4, 'vijay'], [6, 7, 8, [9, 10]]]\n",
    "[1, 2, 3, [4, 'vijay'], [6, 7, 8, [9, 10]]]\n",
    "\n",
    "copy.deepcopy() creates a new container  and populates it with the copied contents of the original item. It creates\n",
    "a clone of the original items and any changes made in the item copied is not reflected  in the original item. This method\n",
    "recursively fills the objected copied with the copies of the child objects found in the original one.\n",
    "\n",
    "\n",
    "input\n",
    "l=[1,2,3,[4,5],[6,7,8,[9,10]]]\n",
    "l3 = copy.deepcopy(l)\n",
    "l3[4][1] =\"vijay\"\n",
    "print(l)\n",
    "print(l3)\n",
    "output\n",
    "[1, 2, 3, [4, 5], [6, 7, 8, [9, 10]]]\n",
    "[1, 2, 3, [4, 5], [6, 'vijay', 8, [9, 10]]]"
   ]
  },
  {
   "cell_type": "code",
   "execution_count": null,
   "id": "5444d056",
   "metadata": {},
   "outputs": [],
   "source": []
  },
  {
   "cell_type": "code",
   "execution_count": null,
   "id": "ce0c6b98",
   "metadata": {},
   "outputs": [],
   "source": []
  },
  {
   "cell_type": "code",
   "execution_count": 19,
   "id": "9d4b84a8",
   "metadata": {},
   "outputs": [
    {
     "data": {
      "text/plain": [
       "[3.14, 'cat', 11, 'cat', True, 99]"
      ]
     },
     "execution_count": 19,
     "metadata": {},
     "output_type": "execute_result"
    }
   ],
   "source": [
    "bacon"
   ]
  },
  {
   "cell_type": "code",
   "execution_count": null,
   "id": "6ebf44dd",
   "metadata": {
    "collapsed": true
   },
   "outputs": [],
   "source": []
  },
  {
   "cell_type": "code",
   "execution_count": null,
   "id": "6aeb5286",
   "metadata": {},
   "outputs": [],
   "source": []
  },
  {
   "cell_type": "code",
   "execution_count": 12,
   "id": "084066dd",
   "metadata": {},
   "outputs": [
    {
     "data": {
      "text/plain": [
       "['a', 'b']"
      ]
     },
     "execution_count": 12,
     "metadata": {},
     "output_type": "execute_result"
    }
   ],
   "source": [
    "spam[:2]"
   ]
  },
  {
   "cell_type": "code",
   "execution_count": null,
   "id": "4a01e5ee",
   "metadata": {},
   "outputs": [],
   "source": []
  }
 ],
 "metadata": {
  "kernelspec": {
   "display_name": "Python 3 (ipykernel)",
   "language": "python",
   "name": "python3"
  },
  "language_info": {
   "codemirror_mode": {
    "name": "ipython",
    "version": 3
   },
   "file_extension": ".py",
   "mimetype": "text/x-python",
   "name": "python",
   "nbconvert_exporter": "python",
   "pygments_lexer": "ipython3",
   "version": "3.9.12"
  }
 },
 "nbformat": 4,
 "nbformat_minor": 5
}
