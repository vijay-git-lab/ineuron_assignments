{
 "cells": [
  {
   "cell_type": "code",
   "execution_count": null,
   "id": "89ade148",
   "metadata": {},
   "outputs": [],
   "source": [
    "1. Why are functions advantageous to have in your programs?\n",
    "\n",
    "Answer\n",
    "It eliminates the wring of codes again and again. A function can be called as many times as it is required  and then \n",
    "it will perform the defined operation.\n"
   ]
  },
  {
   "cell_type": "code",
   "execution_count": null,
   "id": "8f028e64",
   "metadata": {},
   "outputs": [],
   "source": [
    "2. When does the code in a function run: when it's specified or when it's called?\n",
    "\n",
    "Answer\n",
    "Code is run when it is called."
   ]
  },
  {
   "cell_type": "code",
   "execution_count": null,
   "id": "4330a3e1",
   "metadata": {},
   "outputs": [],
   "source": [
    "3. What statement creates a function?\n",
    "\n",
    "Answer\n",
    "def"
   ]
  },
  {
   "cell_type": "code",
   "execution_count": null,
   "id": "1fd3bc76",
   "metadata": {},
   "outputs": [],
   "source": [
    "4. What is the difference between a function and a function call?\n",
    "\n",
    "Answer\n",
    "Function is set of statements which performs a specified task . It is defined using the def keyword following with the \n",
    "name of function and brackets and then  a semicolon.\n",
    "Eg.  def func():\n",
    "\n",
    "A function call is the execution of the function to perform the specified task. It is called by naming the function and\n",
    "with brackets without any semicolon \n",
    "Eg. func()"
   ]
  },
  {
   "cell_type": "code",
   "execution_count": null,
   "id": "74539434",
   "metadata": {},
   "outputs": [],
   "source": [
    "5. How many global scopes are there in a Python program? How many local scopes?\n",
    "\n",
    "Answer\n",
    "There is one global scope in python and it can be acessed using the keyword global.\n",
    "The is one local scope which is created when a function executes.  It remains in the memory as long as the function is in \n",
    "memory\n"
   ]
  },
  {
   "cell_type": "code",
   "execution_count": null,
   "id": "3983802d",
   "metadata": {},
   "outputs": [],
   "source": [
    "6. What happens to variables in a local scope when the function call returns?\n",
    "\n",
    "Answer\n",
    "Varibales in local scope ceases to exsit when the function call is retuned."
   ]
  },
  {
   "cell_type": "code",
   "execution_count": null,
   "id": "d4f8d355",
   "metadata": {},
   "outputs": [],
   "source": [
    "7. What is the concept of a return value? Is it possible to have a return value in an expression?\n",
    "\n",
    "Answer\n",
    "return value is the value returned after the the execution of the fucntion call. the value is retuned by using\n",
    "the keyword return. yes it is possible to return value in an expression. this can be done by sing the keyword \n",
    "return follwed by the expression. but rtuen keyword can only be used inside the function to retun the values.\n"
   ]
  },
  {
   "cell_type": "code",
   "execution_count": null,
   "id": "068d76b5",
   "metadata": {},
   "outputs": [],
   "source": [
    "8. If a function does not have a return statement, what is the return value of a call to that function?\n",
    "\n",
    "Answer\n",
    "Nonetype\n"
   ]
  },
  {
   "cell_type": "code",
   "execution_count": null,
   "id": "12ba6cd1",
   "metadata": {},
   "outputs": [],
   "source": [
    "9. How do you make a function variable refer to the global variable?\n",
    "\n",
    "Answer\n",
    "By using the keyword global before  the variable.\n",
    "eg.\n",
    "x =1\n",
    "def abc ():\n",
    "    global x\n",
    "    x = x+1\n",
    "    return x\n",
    "\n"
   ]
  },
  {
   "cell_type": "code",
   "execution_count": null,
   "id": "2110b3f6",
   "metadata": {},
   "outputs": [],
   "source": [
    "10. What is the data type of None?\n",
    "\n",
    "Answer\n",
    "Datatype of None is None\n"
   ]
  },
  {
   "cell_type": "code",
   "execution_count": null,
   "id": "e068652a",
   "metadata": {},
   "outputs": [],
   "source": [
    "11. What does the sentence import areallyourpetsnamederic do?\n",
    "\n",
    "Answer\n",
    "It importsa file named areallyourpetsnamederic .\n"
   ]
  },
  {
   "cell_type": "code",
   "execution_count": null,
   "id": "bc65fffe",
   "metadata": {},
   "outputs": [],
   "source": [
    "12. If you had a bacon() feature in a spam module, what would you call it after importing spam?\n",
    "\n",
    "Answer\n",
    "spam.bacon()"
   ]
  },
  {
   "cell_type": "code",
   "execution_count": null,
   "id": "4c191e69",
   "metadata": {},
   "outputs": [],
   "source": [
    "13. What can you do to save a programme from crashing if it encounters an error?\n",
    "\n",
    "Answer\n",
    "The program may be put in a try block and then except keyword to point the error encountered.\n",
    "eg.\n",
    "\n",
    "try:\n",
    "    \n",
    "    # code with error\n",
    "    \n",
    "except Exception as e:\n",
    "    print(e)\n"
   ]
  },
  {
   "cell_type": "code",
   "execution_count": null,
   "id": "9cdbb1f2",
   "metadata": {},
   "outputs": [],
   "source": [
    "14. What is the purpose of the try clause? What is the purpose of the except clause?\n",
    "\n",
    "Answer\n",
    "try clause. This is used in case there may be an error in the code whuch ay cause the entire code to terminate. If erroneous\n",
    "code is inside the try clause then even if the error is  encountered the whole program will not interrupt. \n",
    "except clause: if  a lines of code encounters an error then if try clause have been used then the control of the program\n",
    "goes to the except codes in the except clause is executed. This stops the program from coming to halt\n",
    "\n",
    "eg.\n",
    "try:\n",
    "    \n",
    "    x = int(input(\"enter a number to square it  \"))\n",
    "    print(x*x)\n",
    "    \n",
    "except Exception as e:\n",
    "    print(e)\n",
    "    \n"
   ]
  },
  {
   "cell_type": "code",
   "execution_count": null,
   "id": "46384a97",
   "metadata": {},
   "outputs": [],
   "source": []
  },
  {
   "cell_type": "code",
   "execution_count": null,
   "id": "1bef5f0c",
   "metadata": {},
   "outputs": [],
   "source": []
  },
  {
   "cell_type": "code",
   "execution_count": null,
   "id": "0bf60210",
   "metadata": {},
   "outputs": [],
   "source": []
  },
  {
   "cell_type": "code",
   "execution_count": null,
   "id": "3d8d910c",
   "metadata": {},
   "outputs": [],
   "source": []
  }
 ],
 "metadata": {
  "kernelspec": {
   "display_name": "Python 3 (ipykernel)",
   "language": "python",
   "name": "python3"
  },
  "language_info": {
   "codemirror_mode": {
    "name": "ipython",
    "version": 3
   },
   "file_extension": ".py",
   "mimetype": "text/x-python",
   "name": "python",
   "nbconvert_exporter": "python",
   "pygments_lexer": "ipython3",
   "version": "3.9.12"
  }
 },
 "nbformat": 4,
 "nbformat_minor": 5
}
