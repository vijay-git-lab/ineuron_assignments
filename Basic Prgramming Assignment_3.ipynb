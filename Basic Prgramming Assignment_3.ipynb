{
 "cells": [
  {
   "cell_type": "code",
   "execution_count": null,
   "id": "d5bd265a",
   "metadata": {},
   "outputs": [],
   "source": [
    "1. Write a Python Program to Check if a Number is Positive, Negative or Zero?\n",
    "2. Write a Python Program to Check if a Number is Odd or Even?\n",
    "3. Write a Python Program to Check Leap Year?\n",
    "4. Write a Python Program to Check Prime Number?\n",
    "5. Write a Python Program to Print all Prime Numbers in an Interval of 1-10000?"
   ]
  },
  {
   "cell_type": "code",
   "execution_count": null,
   "id": "09b5d026",
   "metadata": {},
   "outputs": [],
   "source": [
    "# 1. Write a Python Program to Check if a Number is Positive, Negative or Zero?\n",
    "\n",
    "x = float(input(\"enter a number \"))\n",
    "if x < 0 :\n",
    "    print(f' The number {x} is Negative.')\n",
    "elif x == 0 :\n",
    "    print(f' The number {x} is Zero.')\n",
    "else:\n",
    "    print(f' The number {x} is Positive. ')\n",
    "    "
   ]
  },
  {
   "cell_type": "code",
   "execution_count": null,
   "id": "22a44d87",
   "metadata": {},
   "outputs": [],
   "source": [
    "# 2. Write a Python Program to Check if a Number is Odd or Even?\n",
    "\n",
    "x = float(input(\"Enter a number \"))\n",
    "if x%2 == 0:\n",
    "    print(f'The number {x} is even.')\n",
    "else:\n",
    "    print(f' The number {x} is odd.')\n",
    "    "
   ]
  },
  {
   "cell_type": "code",
   "execution_count": null,
   "id": "2573a8c7",
   "metadata": {},
   "outputs": [],
   "source": [
    "# 3.Write a Python Program to Check Leap Year?\n",
    "\n",
    "x = int(input(\"Enter the year \"))\n",
    "if x%4 != 0 :\n",
    "    print(f' The year {x} is not a Leap year')\n",
    "elif x%4 == 0 and x%100 != 0 :\n",
    "    print(f' The year {x} is a Leap year')\n",
    "elif x%4 == 0 and x%100 == 0 and x %400 != 0:\n",
    "    print(f' The year {x} is not a Leap year.')\n",
    "elif x %4==0 and x%100 == 0 and x%400 == 0:\n",
    "    print(f' The year {x} is a Leap year')\n"
   ]
  },
  {
   "cell_type": "code",
   "execution_count": null,
   "id": "a920b04b",
   "metadata": {},
   "outputs": [],
   "source": [
    "# 4. Write a Python Program to Check Prime Number?\n",
    "\n",
    "x = int(input(\"Enter a number \"))\n",
    "if x <= 1 :\n",
    "    print(f' The number {x} is not a Prime number')\n",
    "else:\n",
    "    y = (x//2) + 1\n",
    "    for i in range(2,y):\n",
    "        if x%i == 0:\n",
    "            print(f'The number {x} is not a Prime number.')\n",
    "            break \n",
    "    else:\n",
    "        print(f'The number is {x} Prime number.')\n",
    "        "
   ]
  },
  {
   "cell_type": "code",
   "execution_count": null,
   "id": "f89deb8e",
   "metadata": {},
   "outputs": [],
   "source": [
    "# 5.Write a Python Program to Print all Prime Numbers in an Interval of 1-10000?\n",
    "\n",
    "l=[]\n",
    "def check_for_prime(x):\n",
    "    if x > 1 :\n",
    "        y = (x//2) + 1\n",
    "        for i in range(2,y):\n",
    "            if x%i == 0:\n",
    "                break   \n",
    "        else:\n",
    "            l.append(x)\n",
    "\n",
    "for i in range(1, 10001):\n",
    "    check_for_prime(i)\n",
    "print(l)\n"
   ]
  }
 ],
 "metadata": {
  "kernelspec": {
   "display_name": "Python 3 (ipykernel)",
   "language": "python",
   "name": "python3"
  },
  "language_info": {
   "codemirror_mode": {
    "name": "ipython",
    "version": 3
   },
   "file_extension": ".py",
   "mimetype": "text/x-python",
   "name": "python",
   "nbconvert_exporter": "python",
   "pygments_lexer": "ipython3",
   "version": "3.9.12"
  }
 },
 "nbformat": 4,
 "nbformat_minor": 5
}
