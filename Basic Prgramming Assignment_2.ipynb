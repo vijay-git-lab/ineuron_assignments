{
 "cells": [
  {
   "cell_type": "code",
   "execution_count": null,
   "id": "d5bd265a",
   "metadata": {},
   "outputs": [],
   "source": [
    "1. Write a Python program to convert kilometers to miles?\n",
    "2. Write a Python program to convert Celsius to Fahrenheit?\n",
    "3. Write a Python program to display calendar?\n",
    "4. Write a Python program to solve quadratic equation?\n",
    "5. Write a Python program to swap two variables without temp variable?"
   ]
  },
  {
   "cell_type": "code",
   "execution_count": null,
   "id": "09b5d026",
   "metadata": {},
   "outputs": [],
   "source": [
    "# 1. Write a Python program to convert kilometers to miles?\n",
    "\n",
    "km = float(input(\"enter the kilometers \"))\n",
    "mile = km*0.62137119 \n",
    "print(f'{km} kilometers is equal to  {mile} miles')"
   ]
  },
  {
   "cell_type": "code",
   "execution_count": null,
   "id": "e8ba4523",
   "metadata": {},
   "outputs": [],
   "source": [
    "# 2. Write a Python program to convert Celsius to Fahrenheit?\n",
    "\n",
    "celsius = float(input(\"Enter the temperature in celsius \"))\n",
    "fahrenheit = 1.8*celsius + 32\n",
    "print(f'The {celsius} degree celsius is equal to {fahrenheit} degree fahrenheit')"
   ]
  },
  {
   "cell_type": "code",
   "execution_count": null,
   "id": "8b549db0",
   "metadata": {},
   "outputs": [],
   "source": [
    "# 3.Write a Python program to display calendar?\n",
    "\n",
    "import calendar\n",
    "cal = int(input(\"Enter the year for calendar\"))\n",
    "print(calendar.calendar(cal))"
   ]
  },
  {
   "cell_type": "code",
   "execution_count": null,
   "id": "f0a6f0d1",
   "metadata": {},
   "outputs": [],
   "source": [
    "# 4.Write a Python program to solve quadratic equation?\n",
    "\n",
    "a = float(input(\"enter the coeficient of x power 2 \"))\n",
    "b = float(input(\"Enter teh coeficent of x power 1 \"))\n",
    "c = float(input(\"Enter the coeficent of x power 0 \"))\n",
    "print(f'The quadratic equation is {a}x2 + {b}x + {c}')\n",
    "sol1 = (-b + ((b**2 - 4*a*c))**0.5)/(2*a)\n",
    "sol2 = (-b - ((b**2  - 4*a*c))**0.5)/(2*a)\n",
    "print(f'The solution of the equation is {sol1} and {sol2}')\n"
   ]
  },
  {
   "cell_type": "code",
   "execution_count": null,
   "id": "9afaa123",
   "metadata": {},
   "outputs": [],
   "source": [
    "# 5. Write a Python program to swap two variables without temp variable?\n",
    "\n",
    "x = 10\n",
    "y = 20\n",
    "print(f'The value before swapping is x = {x} and y = {y}' )\n",
    "x,y = y,x\n",
    "print(f'The value after swap is x = {x} and y = {y}')"
   ]
  },
  {
   "cell_type": "code",
   "execution_count": null,
   "id": "2b7247ab",
   "metadata": {},
   "outputs": [],
   "source": []
  }
 ],
 "metadata": {
  "kernelspec": {
   "display_name": "Python 3 (ipykernel)",
   "language": "python",
   "name": "python3"
  },
  "language_info": {
   "codemirror_mode": {
    "name": "ipython",
    "version": 3
   },
   "file_extension": ".py",
   "mimetype": "text/x-python",
   "name": "python",
   "nbconvert_exporter": "python",
   "pygments_lexer": "ipython3",
   "version": "3.9.12"
  }
 },
 "nbformat": 4,
 "nbformat_minor": 5
}
