{
 "cells": [
  {
   "cell_type": "code",
   "execution_count": null,
   "id": "89ade148",
   "metadata": {},
   "outputs": [],
   "source": [
    "1.What are the two values of the Boolean data type? How do you write them?\n",
    "\n",
    "Answer\n",
    "Two values of the Boolean data type is True and False\n",
    "\n",
    "\n",
    "\n",
    "\n",
    "4. What are the values of the following expressions?\n",
    "(5 > 4) and (3 == 5)\n",
    "not (5 > 4)\n",
    "(5 > 4) or (3 == 5)\n",
    "not ((5 > 4) or (3 == 5))\n",
    "(True and True) and (True == False)\n",
    "(not False) or (not True)\n",
    "\n",
    "6. How do you tell the difference between the equal to and assignment operators?Describe a condition and when you would use one.\n",
    "7. Identify the three blocks in this code:\n",
    "spam = 0\n",
    "if spam == 10:\n",
    "print('eggs')\n",
    "if spam > 5:\n",
    "print('bacon')\n",
    "else:\n",
    "print('ham')\n",
    "print('spam')\n",
    "print('spam')\n",
    "8. Write code that prints Hello if 1 is stored in spam, prints Howdy if 2 is stored in spam, and prints Greetings! if anything else is stored in spam.\n",
    "\n",
    "\n",
    "9.If your programme is stuck in an endless loop, what keys you’ll press?\n",
    "10. How can you tell the difference between break and continue?\n",
    "11. In a for loop, what is the difference between range(10), range(0, 10), and range(0, 10, 1)?\n",
    "12. Write a short program that prints the numbers 1 to 10 using a for loop. \n",
    "Then write an equivalent program that prints the numbers 1 to 10 using a while loop.\n",
    "13. If you had a function named bacon() inside a module named spam, how would you call it after importing spam?\n",
    "\n"
   ]
  },
  {
   "cell_type": "code",
   "execution_count": null,
   "id": "8f028e64",
   "metadata": {},
   "outputs": [],
   "source": [
    "2. What are the three different types of Boolean operators?\n",
    "\n",
    "Answer\n",
    "AND OR NOT"
   ]
  },
  {
   "cell_type": "code",
   "execution_count": null,
   "id": "4330a3e1",
   "metadata": {},
   "outputs": [],
   "source": [
    "3. Make a list of each Boolean operator's truth tables (i.e. every possible combination of Boolean values for the operator and what it evaluate ).\n",
    "\n",
    "Answer \n",
    "True or True    -> True\n",
    "True or False   -> True\n",
    "False or False  -> False\n",
    "False or True   -> False\n",
    "True and True   -> True\n",
    "True and False  -> False\n",
    "False and True  -> False\n",
    "False and False -> False\n",
    "not True        -> False\n",
    "not False       -> True "
   ]
  },
  {
   "cell_type": "code",
   "execution_count": null,
   "id": "1fd3bc76",
   "metadata": {},
   "outputs": [],
   "source": [
    "4. What are the values of the following expressions?\n",
    "\n",
    "Answer\n",
    "(5 > 4) and (3 == 5) -> False\n",
    "not (5 > 4) -> False\n",
    "(5 > 4) or (3 == 5) -> True\n",
    "not ((5 > 4) or (3 == 5)) -> False\n",
    "(True and True) and (True == False) -> False\n",
    "(not False) or (not True) -> True"
   ]
  },
  {
   "cell_type": "code",
   "execution_count": null,
   "id": "74539434",
   "metadata": {},
   "outputs": [],
   "source": [
    "5. What are the six comparison operators?\n",
    "\n",
    "Answer\n",
    "Six comparison operators are\n",
    "1.>\n",
    "2.>=\n",
    "3.<\n",
    "4.<=\n",
    "5.==\n",
    "6.!="
   ]
  },
  {
   "cell_type": "code",
   "execution_count": null,
   "id": "3983802d",
   "metadata": {},
   "outputs": [],
   "source": [
    "6. How do you tell the difference between the equal to and assignment operators? Describe a condition and when you \n",
    "would use one.\n",
    "\n",
    "Answer.\n",
    "Equal to operators is == \n",
    "Assignment operators is =\n",
    "When a datatyoe is to assigned a variable the assignment operator = is used when a comparison is to be done equal to\n",
    "operator == is  used.\n"
   ]
  },
  {
   "cell_type": "code",
   "execution_count": null,
   "id": "d4f8d355",
   "metadata": {},
   "outputs": [],
   "source": [
    "7. Identify the three blocks in this code:\n",
    "spam = 0\n",
    "if spam == 10:\n",
    "    print('eggs')\n",
    "if spam > 5:\n",
    "print('bacon')\n",
    "else:\n",
    "print('ham')\n",
    "print('spam')\n",
    "print('spam')\n",
    "\n",
    "Answer\n",
    "Block 1 : if spam == 10:\n",
    "             print('eggs'\n",
    "Block 2 :  if spam > 5:\n",
    "            print('bacon')\n",
    "Block 3: else:\n",
    "            print('ham')\n",
    "            print('spam')\n",
    "            print('spam'\n"
   ]
  },
  {
   "cell_type": "code",
   "execution_count": null,
   "id": "068d76b5",
   "metadata": {},
   "outputs": [],
   "source": [
    "8. Write code that prints Hello if 1 is stored in spam, prints Howdy if 2 is stored in spam, and prints Greetings! \n",
    "if anything else is stored in spam.\n",
    "\n",
    "\n",
    "Answer\n",
    "spam = int(input())\n",
    "if spam == 1:\n",
    "  print(\"Hello\")\n",
    "elif  spam == 2:\n",
    "  print(\"Howdy\")\n",
    "else:\n",
    "  print(\"Greetings !\")\n"
   ]
  },
  {
   "cell_type": "code",
   "execution_count": null,
   "id": "12ba6cd1",
   "metadata": {},
   "outputs": [],
   "source": [
    "9.If your programme is stuck in an endless loop, what keys you’ll press?\n",
    "\n",
    "Answer\n",
    "Cntrl + C\n"
   ]
  },
  {
   "cell_type": "code",
   "execution_count": null,
   "id": "2110b3f6",
   "metadata": {},
   "outputs": [],
   "source": [
    "10. How can you tell the difference between break and continue?\n",
    "\n",
    "Answer\n",
    "break: break keyword when encountered terminates  the loop containing it  and control  of the program goes to the statement\n",
    "immediately after the loop.\n",
    "continue: continue keyword when encountered it skips the remaining code below it in loop and control of the loop goes back \n",
    "to the start  of loop for next iteration\n"
   ]
  },
  {
   "cell_type": "code",
   "execution_count": null,
   "id": "e068652a",
   "metadata": {},
   "outputs": [],
   "source": [
    "11. In a for loop, what is the difference between range(10), range(0, 10), and range(0, 10, 1)?\n",
    "Answer\n",
    "No difference. range(10,  range(0,10) and range(0, 10, 1) will generate the output 10 times counting from 0 till 0 with\n",
    "increment of 1\n"
   ]
  },
  {
   "cell_type": "code",
   "execution_count": null,
   "id": "bc65fffe",
   "metadata": {},
   "outputs": [],
   "source": [
    "12. Write a short program that prints the numbers 1 to 10 using a for loop. Then write an equivalent program that prints \n",
    "the numbers 1 to 10 using a while loop.\n",
    "\n",
    "Answer\n",
    "Using for loop\n",
    "for i in range(1,11):\n",
    "    print(i)\n",
    "\n",
    "Using while loop:\n",
    "x =1\n",
    "while x <  11:\n",
    "    print(x)\n",
    "    x=x+1\n"
   ]
  },
  {
   "cell_type": "code",
   "execution_count": null,
   "id": "4c191e69",
   "metadata": {},
   "outputs": [],
   "source": [
    "13. If you had a function named bacon() inside a module named spam, how would you call it after importing spam?\n",
    "\n",
    "Answer\n",
    "spam.bacon()\n"
   ]
  }
 ],
 "metadata": {
  "kernelspec": {
   "display_name": "Python 3 (ipykernel)",
   "language": "python",
   "name": "python3"
  },
  "language_info": {
   "codemirror_mode": {
    "name": "ipython",
    "version": 3
   },
   "file_extension": ".py",
   "mimetype": "text/x-python",
   "name": "python",
   "nbconvert_exporter": "python",
   "pygments_lexer": "ipython3",
   "version": "3.9.12"
  }
 },
 "nbformat": 4,
 "nbformat_minor": 5
}
