{
 "cells": [
  {
   "cell_type": "code",
   "execution_count": null,
   "id": "0cc32508",
   "metadata": {},
   "outputs": [],
   "source": [
    "1. Write a Python Program to Add Two Matrices?\n",
    "2. Write a Python Program to Multiply Two Matrices?\n",
    "3. Write a Python Program to Transpose a Matrix?\n",
    "4. Write a Python Program to Sort Words in Alphabetic Order?\n",
    "5. Write a Python Program to Remove Punctuation From a String?"
   ]
  },
  {
   "cell_type": "code",
   "execution_count": null,
   "id": "5211ed98",
   "metadata": {},
   "outputs": [],
   "source": [
    "#1. Write a Python Program to Add Two Matrices?\n",
    "\n",
    "a = np.array([[1,2,3],[4,5,6]])\n",
    "b = np.array([[7,8,9],[10,11,12]])\n",
    "c = np.mat([[1,2,3],[4,5,6]])\n",
    "d = np.mat([[7,8,9],[10,11,12]])\n",
    "\n",
    "def add_mat(m,n):\n",
    "    return  m+n\n"
   ]
  },
  {
   "cell_type": "code",
   "execution_count": null,
   "id": "b7dc6aa1",
   "metadata": {},
   "outputs": [],
   "source": [
    "# 2. Write a Python Program to Multiply Two Matrices?\n",
    "\n",
    "a = np.array([[1,2,3],[4,5,6]])\n",
    "b = np.array([[7,8,9],[10,11,12]])\n",
    "c = np.mat([[1,2,3],[4,5,6]])\n",
    "d = np.mat([[7,8,9],[10,11,12]])\n",
    "def multiply_mat(a,b):\n",
    "    import numpy as np\n",
    "    return a*b"
   ]
  },
  {
   "cell_type": "code",
   "execution_count": null,
   "id": "5ddacce1",
   "metadata": {},
   "outputs": [],
   "source": [
    "# 3. Write a Python Program to Transpose a Matrix?\n",
    "\n",
    "a = np.array([[1,2,3],[4,5,6]])\n",
    "b = np.array([[7,8,9],[10,11,12]])\n",
    "c = np.mat([[1,2,3],[4,5,6]])\n",
    "d = np.mat([[7,8,9],[10,11,12]])\n",
    "def mat_trans(mat):\n",
    "    import numpy as np    \n",
    "    return mat.T"
   ]
  },
  {
   "cell_type": "code",
   "execution_count": null,
   "id": "5ed8b808",
   "metadata": {},
   "outputs": [],
   "source": [
    "# 4. Write a Python Program to Sort Words in Alphabetic Order?\n",
    "\n",
    "sentence  = input(\"enter a sentence \").strip()\n",
    "new_sen  =  sentence.split(\" \")\n",
    "print(sorted(new_sen))\n"
   ]
  },
  {
   "cell_type": "code",
   "execution_count": null,
   "id": "81aeb43e",
   "metadata": {},
   "outputs": [],
   "source": [
    "# 5. Write a Python Program to Remove Punctuation From a String?\n",
    "\n",
    "import string\n",
    "text = input(\" enter a text with punctuation: \")\n",
    "text_punctremoved = text.translate(text.maketrans(\"\",\"\",string.punctuation))\n",
    "print(text_punctremoved)\n"
   ]
  }
 ],
 "metadata": {
  "kernelspec": {
   "display_name": "Python 3 (ipykernel)",
   "language": "python",
   "name": "python3"
  },
  "language_info": {
   "codemirror_mode": {
    "name": "ipython",
    "version": 3
   },
   "file_extension": ".py",
   "mimetype": "text/x-python",
   "name": "python",
   "nbconvert_exporter": "python",
   "pygments_lexer": "ipython3",
   "version": "3.9.12"
  }
 },
 "nbformat": 4,
 "nbformat_minor": 5
}
