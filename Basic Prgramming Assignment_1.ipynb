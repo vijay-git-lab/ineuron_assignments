{
 "cells": [
  {
   "cell_type": "code",
   "execution_count": null,
   "id": "d5bd265a",
   "metadata": {},
   "outputs": [],
   "source": [
    "1.\tWrite a Python program to print \"Hello Python\"?\n",
    "2.\tWrite a Python program to do arithmetical operations addition and division.?\n",
    "3.\tWrite a Python program to find the area of a triangle?\n",
    "4.\tWrite a Python program to swap two variables?\n",
    "5.\tWrite a Python program to generate a random number?\n"
   ]
  },
  {
   "cell_type": "code",
   "execution_count": null,
   "id": "09b5d026",
   "metadata": {},
   "outputs": [],
   "source": [
    "# 1. Write a Python program to print \"Hello Python\"?\n",
    "\n",
    "print(\"Hello Python\")"
   ]
  },
  {
   "cell_type": "code",
   "execution_count": null,
   "id": "22a44d87",
   "metadata": {},
   "outputs": [],
   "source": [
    "# 2.Write a Python program to do arithmetical operations addition and division.?\n",
    "\n",
    "a = int(input(\"enter a number\"))\n",
    "b = int(input(\"enter  another number\"))\n",
    "print(f'The addition of the  {a} and {b} is {a+b} and division is {a/b} ')"
   ]
  },
  {
   "cell_type": "code",
   "execution_count": null,
   "id": "2573a8c7",
   "metadata": {},
   "outputs": [],
   "source": [
    "# 3.Write a Python program to find the area of a triangle?\n",
    "\n",
    "a,b,c = int(input(\"enter the 1st side of traingle \")), int(input(\"enter the 1st side of traingle \")), int(input(\"enter the 1st side of traingle \"))\n",
    "s = (a+b+c)/2\n",
    "area = (s*(s-a)*(s-b)*(s-c))**(1/2)\n",
    "print(f'The area of the traingle is {area}')"
   ]
  },
  {
   "cell_type": "code",
   "execution_count": null,
   "id": "a920b04b",
   "metadata": {},
   "outputs": [],
   "source": [
    "# 4.Write a Python program to swap two variables?\n",
    "\n",
    "x = 10\n",
    "y = 20\n",
    "x,y = y,x\n"
   ]
  },
  {
   "cell_type": "code",
   "execution_count": null,
   "id": "f89deb8e",
   "metadata": {},
   "outputs": [],
   "source": [
    "# 5.Write a Python program to generate a random number?\n",
    "\n",
    "import random\n",
    "x = random.random()\n",
    "print(x)"
   ]
  }
 ],
 "metadata": {
  "kernelspec": {
   "display_name": "Python 3 (ipykernel)",
   "language": "python",
   "name": "python3"
  },
  "language_info": {
   "codemirror_mode": {
    "name": "ipython",
    "version": 3
   },
   "file_extension": ".py",
   "mimetype": "text/x-python",
   "name": "python",
   "nbconvert_exporter": "python",
   "pygments_lexer": "ipython3",
   "version": "3.9.12"
  }
 },
 "nbformat": 4,
 "nbformat_minor": 5
}
