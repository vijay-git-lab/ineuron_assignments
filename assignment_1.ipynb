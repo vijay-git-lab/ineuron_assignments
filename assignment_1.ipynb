{
 "cells": [
  {
   "cell_type": "raw",
   "id": "79ea6355",
   "metadata": {},
   "source": [
    "# 1. In the below elements which of them are values or an expression? eg:- values can be integer or string and expressions will be mathematical operators.\n",
    "* \n",
    "'hello'\n",
    "-87.8\n",
    "- \n",
    "/ \n",
    "+\t\n",
    "6 \n",
    "\n",
    "2. What is the difference between string and variable?\n",
    "\n",
    "3. Describe three different data types.\n",
    "\n",
    "4. What is an expression made up of? What do all expressions do?\n",
    "5. This assignment statements, like spam = 10. What is the difference between an expression and a statement?\n",
    "6. After running the following code, what does the variable bacon contain?\n",
    "bacon = 22\n",
    "bacon + 1\n",
    "\n",
    "7. What should the values of the following two terms be?\n",
    "'spam' + 'spamspam'\n",
    "'spam' * 3\n",
    "\n",
    "8. Why is eggs a valid variable name while 100 is invalid?\n",
    "9. What three functions can be used to get the integer, floating-point number, or string version of a value?\n",
    "10. Why does this expression cause an error? How can you fix it?\n",
    "'I have eaten ' + 99 + ' burritos.'\n",
    "\n"
   ]
  },
  {
   "cell_type": "raw",
   "id": "d8a6af62",
   "metadata": {},
   "source": [
    " 1. In the below elements which of them are values or an expression? eg:- values can be integer or string and expressions will be mathematical operators.\n",
    "* \n",
    "'hello'\n",
    "-87.8\n",
    "- \n",
    "/ \n",
    "+\t\n",
    "6 \n",
    "\n",
    "Answer \n",
    "values : \" hello\" \n",
    "           -87.8\n",
    "           6\n",
    "expressions: -\n",
    "             /\n",
    "             +\n",
    "             *\n"
   ]
  },
  {
   "cell_type": "raw",
   "id": "40ae69ca",
   "metadata": {},
   "source": [
    "2. What is the difference between string and variable?\n",
    "\n",
    "Answer\n",
    "A string is a collection of immuatble characters for eg. \" vijay\", \"kjh\", \"142\"\n",
    "A variable is a place holder for holding the values in it. for eg. vijay = 7623 . vijay is a variable holdig the value 7623.\n",
    "\n",
    "A varaible in python has naming convetions or limitation within which it can ne named for eg. anme of a variable canaot start with a number. "
   ]
  },
  {
   "cell_type": "raw",
   "id": "5bda6b6d",
   "metadata": {},
   "source": [
    "3.Describe three different data types.\n",
    "\n",
    "Answer.\n",
    "Three diferent datatypes are int, str, float.\n",
    "int is a numeric and integral  type of data like  1,2 ,-1.\n",
    "str is a string type of data means str data type holds characters . for eg \"a\",\"12\",\"uhsgd\",\"#$$hj12\".\n",
    "float is anumerical data type which van hold decimal values for eg. 1.2 -9.087\n"
   ]
  },
  {
   "cell_type": "raw",
   "id": "9524d095",
   "metadata": {},
   "source": [
    "4.  What is an expression made up of? What do all expressions do?\n",
    "\n",
    "Answer:\n",
    "Expresions is made up of the values of numbers or alphabets that contain the mathematical and logical operators.\n",
    "for eg. 2+3 , a AND b.\n"
   ]
  },
  {
   "cell_type": "raw",
   "id": "d92ba173",
   "metadata": {},
   "source": [
    "5. This assignment statements, like spam = 10. What is the difference between an expression and a statement?\n",
    "\n",
    "Answer\n",
    "Expression is the code  containing the logical ,mathematical or character  operators.\n",
    "For eg. 2+3 , 7>5 \n",
    "statement is a piece of code that completes a task \n",
    "for eg. x= 10, print(\"vijay\")"
   ]
  },
  {
   "cell_type": "raw",
   "id": "6c7ac5fd",
   "metadata": {},
   "source": [
    "6. After running the following code, what does the variable bacon contain?\n",
    "bacon = 22\n",
    "bacon + 1\n",
    "\n",
    "Answer\n",
    "In first bacon will be assinged values 22\n",
    "In 2nd line bacon will add value 1 in its previous value and will become 23."
   ]
  },
  {
   "cell_type": "raw",
   "id": "f409d163",
   "metadata": {},
   "source": [
    "7. What should the values of the following two terms be?\n",
    "'spam' + 'spamspam'\n",
    "'spam' * 3\n",
    "\n",
    "Answer\n",
    "in 1st line \"spam\" will concatenate with \"spamspam\" and will become \"spamspamspam\"\n",
    "In 2nd line spam will multiply three times and will become \"spamspamspam\""
   ]
  },
  {
   "cell_type": "raw",
   "id": "a2ec0015",
   "metadata": {},
   "source": [
    "8. Why is eggs a valid variable name while 100 is invalid?\n",
    "\n",
    "Answer:\n",
    "eggs is a valid varibale because it follows the naming convetion like it is acollection of charatcters witgout any space.\n",
    "But while 100 is invalid because it conatains a spave between two strings which is not a valid format for naming of variable."
   ]
  },
  {
   "cell_type": "raw",
   "id": "ca2bf60a",
   "metadata": {},
   "source": [
    "9. What three functions can be used to get the integer, floating-point number, or string version of a value?\n",
    "\n",
    "Answer:\n",
    "for data type version use typecating int(value)\n"
   ]
  },
  {
   "cell_type": "raw",
   "id": "9287bd6b",
   "metadata": {},
   "source": [
    "10. Why does this expression cause an error? How can you fix it?\n",
    "'I have eaten ' + 99 + ' burritos.'\n",
    "\n",
    "Answer:\n",
    "string can concatenate with string only whike 99is a integer data type.\n",
    "to fix it type cast 99 into string.\n",
    "'I have eaten ' + '99' + ' burritos.'"
   ]
  }
 ],
 "metadata": {
  "kernelspec": {
   "display_name": "Python 3 (ipykernel)",
   "language": "python",
   "name": "python3"
  },
  "language_info": {
   "codemirror_mode": {
    "name": "ipython",
    "version": 3
   },
   "file_extension": ".py",
   "mimetype": "text/x-python",
   "name": "python",
   "nbconvert_exporter": "python",
   "pygments_lexer": "ipython3",
   "version": "3.9.7"
  }
 },
 "nbformat": 4,
 "nbformat_minor": 5
}
