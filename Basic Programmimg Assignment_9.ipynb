{
 "cells": [
  {
   "cell_type": "code",
   "execution_count": null,
   "id": "7e4e2405",
   "metadata": {},
   "outputs": [],
   "source": [
    "1. Write a Python program to check if the given number is a Disarium Number?\n",
    "2. Write a Python program to print all disarium numbers between 1 to 100?\n",
    "3. Write a Python program to check if the given number is Happy Number?\n",
    "4. Write a Python program to print all happy numbers between 1 and 100?\n",
    "5. Write a Python program to determine whether the given number is a Harshad Number?\n",
    "6. Write a Python program to print all pronic numbers between 1 and 100?"
   ]
  },
  {
   "cell_type": "code",
   "execution_count": null,
   "id": "bd580864",
   "metadata": {},
   "outputs": [],
   "source": [
    "# 1. Write a Python program to check if the given number is a Disarium Number?\n",
    "\n",
    "num = input(\"enter a number : \")\n",
    "disar = 0\n",
    "for i in range(0,len(num)):\n",
    "    disar = disar + int(num[i])**(i+1)\n",
    "if disar == int(num):\n",
    "    print(f'{num} is disarium number')\n",
    "else:\n",
    "    print(f'{num} is NOT a disarium number')"
   ]
  },
  {
   "cell_type": "code",
   "execution_count": null,
   "id": "fedad60e",
   "metadata": {},
   "outputs": [],
   "source": [
    "# 2. Write a Python program to print all disarium numbers between 1 to 100?\n",
    "\n",
    "def disarium_100():\n",
    "    for i in range(1,101):\n",
    "        i = str(i)\n",
    "        disar = 0\n",
    "        for j in range(0, len(i)):\n",
    "            disar = disar + int(i[j])**(j+1)\n",
    "        if disar == int(i):\n",
    "            print(f'{i} is disarium number')\n",
    "        \n",
    "            \n",
    "        "
   ]
  },
  {
   "cell_type": "code",
   "execution_count": null,
   "id": "d915b1f4",
   "metadata": {},
   "outputs": [],
   "source": [
    "# 3. Write a Python program to check if the given number is Happy Number?\n",
    "\n",
    "num = input(\"enter a number: \")\n",
    "num1 = num\n",
    "visited = set()\n",
    "flag=\"\"\n",
    "res = 0\n",
    "while int(num)!=1:\n",
    "    res = 0\n",
    "    for i in range(0,len(num)):\n",
    "        res = res + int(num[i])**2\n",
    "        #print(res)\n",
    "    if res == 1:\n",
    "        print(f'{num1} is a happy  number')\n",
    "        break\n",
    "    if res in visited:\n",
    "        print(f'{num1} is NOT a happy number')\n",
    "        flag = \"break\"\n",
    "        break\n",
    "    if flag == \"break\":\n",
    "        break\n",
    "    visited.add(res)\n",
    "    num = str(res)\n",
    "   "
   ]
  },
  {
   "cell_type": "code",
   "execution_count": null,
   "id": "da4d9dc8",
   "metadata": {},
   "outputs": [],
   "source": [
    "# 4. Write a Python program to print all happy numbers between 1 and 100?\n",
    "\n",
    "def happy():\n",
    "    for num in range(1,101):\n",
    "        num =  str(num)\n",
    "        num1 = num\n",
    "        visited = set()\n",
    "        flag=\"\"\n",
    "        res = 0\n",
    "        while int(num)!=1:\n",
    "            res = 0\n",
    "            for i in range(0,len(num)):\n",
    "                res = res + int(num[i])**2\n",
    "                #print(res)\n",
    "            if res == 1:\n",
    "                print(f'{num1} is a happy  number')\n",
    "                break\n",
    "            if res in visited:\n",
    "                #print(f'{num1} is NOT a happy number')\n",
    "                flag = \"break\"\n",
    "                break\n",
    "            if flag == \"break\":\n",
    "                break\n",
    "            visited.add(res)\n",
    "            num = str(res)\n",
    "\n"
   ]
  },
  {
   "cell_type": "code",
   "execution_count": null,
   "id": "f84682df",
   "metadata": {},
   "outputs": [],
   "source": [
    "# 5. Write a Python program to determine whether the given number is a Harshad Number?\n",
    "\n",
    "num = input(\"enter a  number: \")\n",
    "res = 0\n",
    "if int(num) >0 or int(num) <0:\n",
    "    for i in range(0,len(num)):\n",
    "        res= res + int(num[i])\n",
    "    if int(num)%res == 0:\n",
    "        print(f'{num} is a Harshad Number')\n",
    "    else:\n",
    "        print(f'{num} is NOT a harshad number')\n",
    "else:\n",
    "    print(\"enter a number other than 0\")"
   ]
  },
  {
   "cell_type": "code",
   "execution_count": null,
   "id": "884ce003",
   "metadata": {},
   "outputs": [],
   "source": [
    "# 6. Write a Python program to print all pronic numbers between 1 and 100?\n",
    "\n",
    "\n",
    "for i in range(1,101):\n",
    "    for j in range(1,i):\n",
    "        if j*(j+1) == i:\n",
    "            print(f'{i} is pronic number')\n",
    "            break\n",
    "            \n"
   ]
  },
  {
   "cell_type": "code",
   "execution_count": null,
   "id": "e75a9496",
   "metadata": {},
   "outputs": [],
   "source": []
  },
  {
   "cell_type": "code",
   "execution_count": null,
   "id": "19f001cb",
   "metadata": {},
   "outputs": [],
   "source": []
  }
 ],
 "metadata": {
  "kernelspec": {
   "display_name": "Python 3 (ipykernel)",
   "language": "python",
   "name": "python3"
  },
  "language_info": {
   "codemirror_mode": {
    "name": "ipython",
    "version": 3
   },
   "file_extension": ".py",
   "mimetype": "text/x-python",
   "name": "python",
   "nbconvert_exporter": "python",
   "pygments_lexer": "ipython3",
   "version": "3.9.12"
  }
 },
 "nbformat": 4,
 "nbformat_minor": 5
}
