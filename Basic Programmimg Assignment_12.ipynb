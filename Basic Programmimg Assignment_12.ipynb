{
 "cells": [
  {
   "cell_type": "code",
   "execution_count": null,
   "id": "e1c4ba1c",
   "metadata": {},
   "outputs": [],
   "source": [
    "1. Write a Python program to Extract Unique values dictionary values?\n",
    "2. Write a Python program to find the sum of all items in a dictionary?\n",
    "3. Write a Python program to Merging two Dictionaries?\n",
    "4. Write a Python program to convert key-values list to flat dictionary?\n",
    "5. Write a Python program to insertion at the beginning in OrderedDict?\n",
    "6. Write a Python program to check order of character in string using OrderedDict()?\n",
    "7. Write a Python program to sort Python Dictionaries by Key or Value?"
   ]
  },
  {
   "cell_type": "code",
   "execution_count": null,
   "id": "c73865dc",
   "metadata": {},
   "outputs": [],
   "source": [
    "#1. Write a Python program to Extract Unique values dictionary values?\n",
    "\n",
    "def extract(dic):\n",
    "    s=set()\n",
    "    for i in dic.values():\n",
    "        s.add(i)\n",
    "    return s\n"
   ]
  },
  {
   "cell_type": "code",
   "execution_count": null,
   "id": "da675a46",
   "metadata": {},
   "outputs": [],
   "source": [
    "#2. Write a Python program to find the sum of all items in a dictionary?\n",
    "\n",
    "def sum_items(dic):\n",
    "    total = 0\n",
    "    for i in dic:\n",
    "        total = total + dic.get(i, 0)\n",
    "    return total"
   ]
  },
  {
   "cell_type": "code",
   "execution_count": null,
   "id": "b377f91a",
   "metadata": {},
   "outputs": [],
   "source": [
    "#3. Write a Python program to Merging two Dictionaries?\n",
    "\n",
    "def merge(d1,d2):\n",
    "    d1.update(d2)\n",
    "    return d1"
   ]
  },
  {
   "cell_type": "code",
   "execution_count": null,
   "id": "e9a927d5",
   "metadata": {},
   "outputs": [],
   "source": [
    "#4. Write a Python program to convert key-values list to flat dictionary?\n",
    "\n",
    "def convert_to_dic(key_val_list):\n",
    "    d={}\n",
    "    for i,j in key_val_list:\n",
    "        d[i]=j\n",
    "    print(d)\n",
    "    "
   ]
  },
  {
   "cell_type": "code",
   "execution_count": null,
   "id": "20c943c5",
   "metadata": {},
   "outputs": [],
   "source": [
    "# 5. Write a Python program to insertion at the beginning in OrderedDict?\n",
    "\n",
    "from collections import OrderedDict\n",
    "mydict = OrderedDict()\n",
    "j=1\n",
    "# given a key value pair in tuple\n",
    "for i in [\"b\",\"c\",\"d\"]:\n",
    "    mydict[i] = j+1\n",
    "    j=j+1\n",
    "# given a key value pair in tuple\n",
    "t=(\"a\",1)\n",
    "mydict[t[0]] = t[1]\n",
    "mydict.move_to_end(t[0], last=False)\n",
    "    "
   ]
  },
  {
   "cell_type": "code",
   "execution_count": null,
   "id": "94614290",
   "metadata": {},
   "outputs": [],
   "source": [
    "# 7. Write a Python program to sort Python Dictionaries by Key or Value?\n",
    "\n",
    "#sort by keys\n",
    "# d is the dictionary passed to sort by keys\n",
    "def sort_by_keys(d):\n",
    "    my_dict = dict(sorted(d.items()))\n",
    "    return my_dict\n",
    "\n",
    "#sort by values\n",
    "#dictionary is passed in function to sort by values\n",
    "def sort_dict_by_value(dictionary):\n",
    "    sorted_dict = {}\n",
    "    sorted_values = sorted(dictionary.values())\n",
    "    for value in sorted_values:\n",
    "        for key in dictionary:\n",
    "            if dictionary[key] == value:\n",
    "                sorted_dict[key] = value\n",
    "                break\n",
    "    return sorted_dict"
   ]
  }
 ],
 "metadata": {
  "kernelspec": {
   "display_name": "Python 3 (ipykernel)",
   "language": "python",
   "name": "python3"
  },
  "language_info": {
   "codemirror_mode": {
    "name": "ipython",
    "version": 3
   },
   "file_extension": ".py",
   "mimetype": "text/x-python",
   "name": "python",
   "nbconvert_exporter": "python",
   "pygments_lexer": "ipython3",
   "version": "3.9.12"
  }
 },
 "nbformat": 4,
 "nbformat_minor": 5
}
