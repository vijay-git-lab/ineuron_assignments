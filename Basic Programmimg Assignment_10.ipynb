{
 "cells": [
  {
   "cell_type": "code",
   "execution_count": null,
   "id": "7a1367be",
   "metadata": {},
   "outputs": [],
   "source": [
    "1. Write a Python program to find sum of elements in list?\n",
    "2. Write a Python program to Multiply all numbers in the list?\n",
    "3. Write a Python program to find smallest number in a list?\n",
    "4. Write a Python program to find largest number in a list?\n",
    "5. Write a Python program to find second largest number in a list?\n",
    "6. Write a Python program to find N largest elements from a list?\n",
    "7. Write a Python program to print even numbers in a list?\n",
    "8. Write a Python program to print odd numbers in a List?\n",
    "9. Write a Python program to Remove empty List from List?\n",
    "10. Write a Python program to Cloning or Copying a list?\n",
    "11. Write a Python program to Count occurrences of an element in a list?"
   ]
  },
  {
   "cell_type": "code",
   "execution_count": null,
   "id": "7d01c0d8",
   "metadata": {},
   "outputs": [],
   "source": [
    "# 1. Write a Python program to find sum of elements in list?\n",
    "\n",
    "def sum_list(l):\n",
    "# l is the list supplied as argument to function sum_list\n",
    "    res = 0\n",
    "    for i in l:\n",
    "        if type(i) == int:\n",
    "            res = res + i\n",
    "    return res"
   ]
  },
  {
   "cell_type": "code",
   "execution_count": null,
   "id": "46b5c28a",
   "metadata": {},
   "outputs": [],
   "source": [
    "# 2. Write a Python program to Multiply all numbers in the list?\n",
    "\n",
    "def mul_list(l):\n",
    "# l is the list supplied as argument to function mul_list\n",
    "    res=1\n",
    "    for i in l:\n",
    "        if type(i) == int:\n",
    "            res = res*i\n",
    "    return res"
   ]
  },
  {
   "cell_type": "code",
   "execution_count": null,
   "id": "20e586fc",
   "metadata": {},
   "outputs": [],
   "source": [
    "mul_list([0,1,2,3,4,5,6,7,8,\"a\"])"
   ]
  },
  {
   "cell_type": "code",
   "execution_count": null,
   "id": "265a4d14",
   "metadata": {},
   "outputs": [],
   "source": [
    "# 3. Write a Python program to find smallest number in a list?\n",
    "\n",
    "def small(l):\n",
    "# l is the list supplied as argument to function small\n",
    "    l.sort\n",
    "    return l[0]"
   ]
  },
  {
   "cell_type": "code",
   "execution_count": null,
   "id": "73a38431",
   "metadata": {},
   "outputs": [],
   "source": [
    "# 4. Write a Python program to find largest number in a list?\n",
    "\n",
    "def large(l):\n",
    "# l is the list supplied as argument to function large\n",
    "    l.sort()\n",
    "    return l[-1]"
   ]
  },
  {
   "cell_type": "code",
   "execution_count": null,
   "id": "4b6f0547",
   "metadata": {},
   "outputs": [],
   "source": [
    "# 5. Write a Python program to find second largest number in a list?\n",
    "\n",
    "def sec_large(l):\n",
    "# l is the list supplied as argument to function sec_large\n",
    "    l.sort()\n",
    "    return l[-2]"
   ]
  },
  {
   "cell_type": "code",
   "execution_count": null,
   "id": "23d035e7",
   "metadata": {},
   "outputs": [],
   "source": [
    "# 6. Write a Python program to find N largest elements from a list?\n",
    "\n",
    "def n_large(l,n):\n",
    "# l is the list supplied as argument to function n_large and n is to find n largest elements\n",
    "    l.sort()\n",
    "    return l[-1:-(n+1):-1]\n",
    "    "
   ]
  },
  {
   "cell_type": "code",
   "execution_count": null,
   "id": "cc771182",
   "metadata": {},
   "outputs": [],
   "source": [
    "# 7. Write a Python program to print even numbers in a list?\n",
    "\n",
    "def even(l):\n",
    "# l is the list supplied as argument to function even\n",
    "\n",
    "    for i in l:\n",
    "        if type(i) == int:\n",
    "            if i%2 == 0:\n",
    "                print(i)\n",
    "\n"
   ]
  },
  {
   "cell_type": "code",
   "execution_count": null,
   "id": "3cf4ae1e",
   "metadata": {},
   "outputs": [],
   "source": [
    "# 8. Write a Python program to print odd numbers in a List?\n",
    "\n",
    "def odd(l):\n",
    "# l is the list supplied as argument to function odd\n",
    "    for i in l:\n",
    "        if type(i) == int:\n",
    "            if i%2 !=0:\n",
    "                print(i)\n",
    "                "
   ]
  },
  {
   "cell_type": "code",
   "execution_count": null,
   "id": "e6ac1280",
   "metadata": {},
   "outputs": [],
   "source": [
    "# 9. Write a Python program to Remove empty List from List?\n",
    "\n",
    "def empty_remove(l):\n",
    "# l is the list supplied as argument to function empty_remove\n",
    "    for i in l:\n",
    "        if type(i) == list:\n",
    "            if len(i) == 0:\n",
    "                l.remove(i)\n",
    "    return l\n"
   ]
  },
  {
   "cell_type": "code",
   "execution_count": null,
   "id": "d26acfcc",
   "metadata": {},
   "outputs": [],
   "source": [
    "# 10. Write a Python program to Cloning or Copying a list?\n",
    "\n",
    "def clone(l):\n",
    "# l is the list supplied as argument to function even\n",
    "    m = l.copy()\n",
    "    return m\n"
   ]
  },
  {
   "cell_type": "code",
   "execution_count": null,
   "id": "30491304",
   "metadata": {},
   "outputs": [],
   "source": [
    "# 11. Write a Python program to Count occurrences of an element in a list?\n",
    "\n",
    "def occur(l,m):\n",
    "# l is list supplied as argumnet and m is the item whose occurence is to be counted\n",
    "    for i in l:\n",
    "        return l.count(m)\n",
    "    "
   ]
  }
 ],
 "metadata": {
  "kernelspec": {
   "display_name": "Python 3 (ipykernel)",
   "language": "python",
   "name": "python3"
  },
  "language_info": {
   "codemirror_mode": {
    "name": "ipython",
    "version": 3
   },
   "file_extension": ".py",
   "mimetype": "text/x-python",
   "name": "python",
   "nbconvert_exporter": "python",
   "pygments_lexer": "ipython3",
   "version": "3.9.12"
  }
 },
 "nbformat": 4,
 "nbformat_minor": 5
}
