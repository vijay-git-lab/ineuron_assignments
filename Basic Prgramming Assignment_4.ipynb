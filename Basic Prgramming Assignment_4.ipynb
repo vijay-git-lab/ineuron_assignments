{
 "cells": [
  {
   "cell_type": "code",
   "execution_count": null,
   "id": "d5bd265a",
   "metadata": {},
   "outputs": [],
   "source": [
    "1. Write a Python Program to Find the Factorial of a Number?\n",
    "2. Write a Python Program to Display the multiplication Table?\n",
    "3. Write a Python Program to Print the Fibonacci sequence?\n",
    "4. Write a Python Program to Check Armstrong Number?\n",
    "5. Write a Python Program to Find Armstrong Number in an Interval?\n",
    "6. Write a Python Program to Find the Sum of Natural Numbers?"
   ]
  },
  {
   "cell_type": "code",
   "execution_count": null,
   "id": "09b5d026",
   "metadata": {},
   "outputs": [],
   "source": [
    "# 1. Write a Python Program to Find the Factorial of a Number?\n",
    "\n",
    "n = int(input(\"Enter a number to find its factorial \"))\n",
    "factorial = 1\n",
    "for i in range(1, n+1):\n",
    "    factorial = factorial*i\n",
    "print(factorial)\n"
   ]
  },
  {
   "cell_type": "code",
   "execution_count": null,
   "id": "22a44d87",
   "metadata": {},
   "outputs": [],
   "source": [
    "# 2. Write a Python Program to Display the multiplication Table?\n",
    "\n",
    "x = int(input(\"Enter the number to show its multipluication table \"))\n",
    "for i in range(1,11):\n",
    "    print(f' {x} * {i} = {x*i}')\n",
    "    "
   ]
  },
  {
   "cell_type": "code",
   "execution_count": null,
   "id": "2573a8c7",
   "metadata": {},
   "outputs": [],
   "source": [
    "# 3.Write a Python Program to Print the Fibonacci sequence?\n",
    "\n",
    "ln = []\n",
    "p,q =1,1\n",
    "n = int(input(\"enter a number to print fibonacci series till that term \"))\n",
    "for i in range(1,n+1):\n",
    "    if i==1:\n",
    "        ln.append(i)\n",
    "        continue\n",
    "    elif i == 2:\n",
    "        ln.append(1)\n",
    "        continue\n",
    "    else:\n",
    "        r=p+q\n",
    "        ln.append(r)\n",
    "        p =q\n",
    "        q=r        \n",
    "print(ln)\n",
    "        "
   ]
  },
  {
   "cell_type": "code",
   "execution_count": null,
   "id": "27ba4f28",
   "metadata": {},
   "outputs": [],
   "source": [
    "# 4. Write a Python Program to Check Armstrong Number?\n",
    "\n",
    "n_= 0\n",
    "n = input(\"Enter the number \")\n",
    "m = list(n)\n",
    "length  =len(n)\n",
    "for i in m:\n",
    "    n_ = n_ + int(i)**length\n",
    "if int(n) == int(n_):\n",
    "    print(f' The number {n} is a Armstromg number.')\n",
    "else:\n",
    "    print(f' The number {n} is not a Armstrong number.')\n",
    "\n"
   ]
  },
  {
   "cell_type": "code",
   "execution_count": null,
   "id": "8ddd2c8d",
   "metadata": {},
   "outputs": [],
   "source": [
    "# 5. Write a Python Program to Find Armstrong Number in an Interval?\n",
    "\n",
    "m,n = input(\"Enter a start of interval \"), input(\"Enter the end of the interval \")\n",
    "\n",
    "for i in range(int(m),int(n)+1):\n",
    "\n",
    "# calculation of the number of digit in the number\n",
    "    length = len(str(i))\n",
    "\n",
    "# calculation of the armsstrong number\n",
    "    add = 0\n",
    "    for j in str(i):\n",
    "        add = add + int(j)**length\n",
    "    if int(i) == int(add):\n",
    "        print(f' {i} is a armstrong number between {m} and {n}.')   \n",
    "        "
   ]
  },
  {
   "cell_type": "code",
   "execution_count": null,
   "id": "2a957f16",
   "metadata": {},
   "outputs": [],
   "source": [
    "# 6. Write a Python Program to Find the Sum of Natural Numbers?\n",
    "\n",
    "net = 0\n",
    "n = int(input(\"Enter a Natural Number   \"))\n",
    "if n<=0:\n",
    "    print(\"Enter only natural numbers\")\n",
    "else:\n",
    "    \n",
    "    for i in range(1,n+1):\n",
    "        net = net+i\n",
    "    print(f'The sum of {n} natural numbers is {net}')\n",
    "    "
   ]
  }
 ],
 "metadata": {
  "kernelspec": {
   "display_name": "Python 3 (ipykernel)",
   "language": "python",
   "name": "python3"
  },
  "language_info": {
   "codemirror_mode": {
    "name": "ipython",
    "version": 3
   },
   "file_extension": ".py",
   "mimetype": "text/x-python",
   "name": "python",
   "nbconvert_exporter": "python",
   "pygments_lexer": "ipython3",
   "version": "3.9.12"
  }
 },
 "nbformat": 4,
 "nbformat_minor": 5
}
