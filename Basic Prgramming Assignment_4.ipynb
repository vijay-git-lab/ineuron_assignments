{
 "cells": [
  {
   "cell_type": "code",
   "execution_count": null,
   "id": "d5bd265a",
   "metadata": {},
   "outputs": [],
   "source": [
    "1. Write a Python Program to Find the Factorial of a Number?\n",
    "2. Write a Python Program to Display the multiplication Table?\n",
    "3. Write a Python Program to Print the Fibonacci sequence?\n",
    "4. Write a Python Program to Check Armstrong Number?\n",
    "5. Write a Python Program to Find Armstrong Number in an Interval?\n",
    "6. Write a Python Program to Find the Sum of Natural Numbers?"
   ]
  },
  {
   "cell_type": "code",
   "execution_count": 15,
   "id": "09b5d026",
   "metadata": {},
   "outputs": [
    {
     "name": "stdout",
     "output_type": "stream",
     "text": [
      "enter a number 1\n",
      "1\n"
     ]
    }
   ],
   "source": [
    "# 1. Write a Python Program to Find the Factorial of a Number?\n",
    "\n",
    "n = int(input(\"enter a number \"))\n",
    "factorial = 1\n",
    "for i in range(1, n+1):\n",
    "    factorial = factorial*i\n",
    "print(factorial)"
   ]
  },
  {
   "cell_type": "code",
   "execution_count": 25,
   "id": "22a44d87",
   "metadata": {},
   "outputs": [
    {
     "name": "stdout",
     "output_type": "stream",
     "text": [
      "Enter the number to show its multipluication table 12\n",
      " 12 * 1 = 12\n",
      " 12 * 2 = 24\n",
      " 12 * 3 = 36\n",
      " 12 * 4 = 48\n",
      " 12 * 5 = 60\n",
      " 12 * 6 = 72\n",
      " 12 * 7 = 84\n",
      " 12 * 8 = 96\n",
      " 12 * 9 = 108\n",
      " 12 * 10 = 120\n"
     ]
    }
   ],
   "source": [
    "# 2. Write a Python Program to Display the multiplication Table?\n",
    "\n",
    "x = int(input(\"Enter the number to show its multipluication table \"))\n",
    "for i in range(1,11):\n",
    "    print(f' {x} * {i} = {x*i}')"
   ]
  },
  {
   "cell_type": "code",
   "execution_count": null,
   "id": "2573a8c7",
   "metadata": {},
   "outputs": [],
   "source": [
    "# 3.Write a Python Program to Print the Fibonacci sequence?\n",
    "\n",
    "\n"
   ]
  },
  {
   "cell_type": "code",
   "execution_count": null,
   "id": "a920b04b",
   "metadata": {},
   "outputs": [],
   "source": [
    "# 4. Write a Python Program to Check Armstrong Number?\n",
    "\n",
    "  \n",
    "    \n",
    "    \n",
    "    \n",
    "    "
   ]
  },
  {
   "cell_type": "code",
   "execution_count": null,
   "id": "f89deb8e",
   "metadata": {},
   "outputs": [],
   "source": [
    "# 5.Write a Python Program to Find Armstrong Number in an Interval?\n",
    "\n",
    "\n",
    "\n",
    "\n"
   ]
  },
  {
   "cell_type": "code",
   "execution_count": 39,
   "id": "2a957f16",
   "metadata": {},
   "outputs": [
    {
     "name": "stdout",
     "output_type": "stream",
     "text": [
      "Enter a Natural Number  89\n",
      "4005\n"
     ]
    }
   ],
   "source": [
    "# 6. Write a Python Program to Find the Sum of Natural Numbers?\n",
    "net = 0\n",
    "n = int(input(\"Enter a Natural Number  \"))\n",
    "if n >=1:\n",
    "    for i in range(1,n+1):\n",
    "        net = net+i\n",
    "print(f'{net}')"
   ]
  },
  {
   "cell_type": "code",
   "execution_count": null,
   "id": "38a5907a",
   "metadata": {},
   "outputs": [],
   "source": []
  }
 ],
 "metadata": {
  "kernelspec": {
   "display_name": "Python 3 (ipykernel)",
   "language": "python",
   "name": "python3"
  },
  "language_info": {
   "codemirror_mode": {
    "name": "ipython",
    "version": 3
   },
   "file_extension": ".py",
   "mimetype": "text/x-python",
   "name": "python",
   "nbconvert_exporter": "python",
   "pygments_lexer": "ipython3",
   "version": "3.9.12"
  }
 },
 "nbformat": 4,
 "nbformat_minor": 5
}
