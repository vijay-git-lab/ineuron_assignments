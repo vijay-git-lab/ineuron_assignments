{
 "cells": [
  {
   "cell_type": "code",
   "execution_count": null,
   "id": "41fdbcc6",
   "metadata": {},
   "outputs": [],
   "source": [
    "1. Write a Python program to find words which are greater than given length k?\n",
    "2. Write a Python program for removing i-th character from a string?\n",
    "3. Write a Python program to split and join a string?\n",
    "4. Write a Python to check if a given string is binary string or not?\n",
    "5. Write a Python program to find uncommon words from two Strings?\n",
    "6. Write a Python to find all duplicate characters in string?\n",
    "7. Write a Python Program to check if a string contains any special character?"
   ]
  },
  {
   "cell_type": "code",
   "execution_count": null,
   "id": "edda18fd",
   "metadata": {},
   "outputs": [],
   "source": [
    "#1. Write a Python program to find words which are greater than given length k?\n",
    "while True:\n",
    "    try:\n",
    "        word = input(\"enter a word: \")\n",
    "        length = int(input(\"enter a given length to find if word is greater then the length\"))\n",
    "        if len(word)>length:\n",
    "            print(f'{word} is greater than the length {length}')\n",
    "        else:\n",
    "            print(f'{word} is not greater than the length {length}')\n",
    "    except:\n",
    "        print(\"enter the lenght in integer\")\n",
    "        continue\n",
    "    else:\n",
    "        break\n",
    "        "
   ]
  },
  {
   "cell_type": "code",
   "execution_count": null,
   "id": "f369802a",
   "metadata": {},
   "outputs": [],
   "source": [
    "#2. Write a Python program for removing i-th character from a string?\n",
    "\n",
    "while True:\n",
    "    try:\n",
    "        word = input(\"enter a word: \")\n",
    "        if word == \"\":\n",
    "            print(\"enter a atlest a word\")\n",
    "            continue\n",
    "        index = int(input(\"enter a position to remove the charatre at that position\"))\n",
    "        if index not in range (1, len(word)+1):\n",
    "            print(f\"enter the position between 1 and {len(word)}\")\n",
    "            continue\n",
    "    except:\n",
    "        print(f\"enter only numers\")\n",
    "        continue\n",
    "    else:\n",
    "        break\n",
    "word = word[:index - 1] + word[index:]\n",
    "print(word)\n",
    "\n",
    "            \n",
    "            \n",
    "            "
   ]
  },
  {
   "cell_type": "code",
   "execution_count": null,
   "id": "95804a19",
   "metadata": {},
   "outputs": [],
   "source": [
    "#3. Write a Python program to split and join a string?\n",
    "\n",
    "word = input(\"enter a word:\")\n",
    "split_word  = list(word)\n",
    "print(f\"the split string is {split_word}\")\n",
    "join_word = \"\".join(split_word)\n",
    "print(f\"the joined word id {join_word}\")\n"
   ]
  },
  {
   "cell_type": "code",
   "execution_count": null,
   "id": "5b072943",
   "metadata": {},
   "outputs": [],
   "source": [
    "#4. Write a Python to check if a given string is binary string or not?\n",
    "\n",
    "x = input(\"enter a binary string: \")\n",
    "for i in x:\n",
    "   # print(i)\n",
    "    if (i != \"0\") and (i != \"1\"):\n",
    "        print(\"its not binary\")\n",
    "        break\n",
    "else:\n",
    "    print(\"binary\")\n",
    "        \n"
   ]
  },
  {
   "cell_type": "code",
   "execution_count": null,
   "id": "0c3f6bf6",
   "metadata": {},
   "outputs": [],
   "source": [
    "#5. Write a Python program to find uncommon words from two Strings?\n",
    "\n",
    "x,y = input(\"enter a sentence: \"),  input(\"enter another sentence: \")\n",
    "s1 =  set(x.split(\" \"))\n",
    "s2 = set(y.split(\" \"))\n",
    "s3 = s1.symmetric_difference(s2)\n",
    "print(s3)\n",
    "      \n",
    "        \n",
    "\n",
    "            "
   ]
  },
  {
   "cell_type": "code",
   "execution_count": null,
   "id": "71639b78",
   "metadata": {},
   "outputs": [],
   "source": [
    "#6. Write a Python to find all duplicate characters in string\n",
    "\n",
    "sentence = input(\"enter a strig here: \")\n",
    "\n",
    "dic = {}\n",
    "l=[]\n",
    "for i in sentence:\n",
    "    dic[i] = dic.get(i, 0) +1\n",
    "for i in dic:\n",
    "    if dic[i] >1:\n",
    "        l.append(i)\n",
    "if len(l) == 0:\n",
    "    print(f\"no duplicate charaters\")\n",
    "else:\n",
    "    print(l)\n"
   ]
  },
  {
   "cell_type": "code",
   "execution_count": null,
   "id": "7793a8d8",
   "metadata": {},
   "outputs": [],
   "source": [
    "#7. Write a Python Program to check if a string contains any special character?\n",
    "import string\n",
    "\n",
    "x = input()\n",
    "l=[]\n",
    "for i in x:\n",
    "    if i in string.punctuation:\n",
    "        l.append(i)\n",
    "        s= set(l)\n",
    "if len(l) == 0:\n",
    "    print(\"string do not contaiain special characters\")\n",
    "else:\n",
    "    print(f\"string conatain special characters {s}\")\n",
    "\n"
   ]
  }
 ],
 "metadata": {
  "kernelspec": {
   "display_name": "Python 3 (ipykernel)",
   "language": "python",
   "name": "python3"
  },
  "language_info": {
   "codemirror_mode": {
    "name": "ipython",
    "version": 3
   },
   "file_extension": ".py",
   "mimetype": "text/x-python",
   "name": "python",
   "nbconvert_exporter": "python",
   "pygments_lexer": "ipython3",
   "version": "3.9.12"
  }
 },
 "nbformat": 4,
 "nbformat_minor": 5
}
